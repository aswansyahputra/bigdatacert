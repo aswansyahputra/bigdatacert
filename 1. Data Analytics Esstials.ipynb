{
 "cells": [
  {
   "cell_type": "markdown",
   "metadata": {},
   "source": [
    "<div style=\"padding: 5px 5px 50px 5px;\">\n",
    "    <img src=\"image/image.png\" style=\"width: 30%; float: right;\">\n",
    "</div>\n",
    "\n",
    "<div style=\"text-align: center; inter-word;\"> \n",
    "    <h1 style=\"font-size: 60px;color:#4480C4\"> Data Analytics Essentials</h1> \n",
    "</div>\n",
    "\n",
    "<div> \n",
    "    <h2 style=\"font-size: 20px;color:#ffce00; padding: 0px 0px 15px 0px; text-align: center\" >Big Data Analyst International Certification, Telkom University </h2> \n",
    "</div>\n",
    "\n",
    "<div style=\"text-align: justify; text-justify: inter-word;\"> \n",
    "    <b>Overview:</b>\n",
    "</div>\n"
   ]
  },
  {
   "cell_type": "markdown",
   "metadata": {},
   "source": [
    "<h3 style=\"font-size:25px;color:#4480C4\">Data Exploration</h3>"
   ]
  },
  {
   "cell_type": "code",
   "execution_count": null,
   "metadata": {},
   "outputs": [],
   "source": [
    "# import library\n",
    "import pandas as pd"
   ]
  },
  {
   "cell_type": "code",
   "execution_count": null,
   "metadata": {},
   "outputs": [],
   "source": [
    "# Import Data .csv\n",
    "df_csv = pd.read_csv('dataset/churn.csv', sep=';',)\n",
    "column_names = df_csv.columns.tolist()\n",
    "\n",
    "# Show 10 first Row\n",
    "df_csv.head()"
   ]
  },
  {
   "cell_type": "code",
   "execution_count": null,
   "metadata": {},
   "outputs": [],
   "source": [
    "# Show Variable Type\n",
    "type(df_csv)\n",
    "df_csv.dtypes"
   ]
  },
  {
   "cell_type": "code",
   "execution_count": null,
   "metadata": {},
   "outputs": [],
   "source": [
    "# Assign \"data_csv\" to new variable  \"df\" \n",
    "df = df_csv\n",
    "df.head()"
   ]
  },
  {
   "cell_type": "code",
   "execution_count": null,
   "metadata": {},
   "outputs": [],
   "source": [
    "# Show Data Summary\n",
    "df.info()"
   ]
  },
  {
   "cell_type": "markdown",
   "metadata": {},
   "source": [
    "<h2 style=\"font-size:18px;color:#ffce00\">Statistics Descriptive</h2>"
   ]
  },
  {
   "cell_type": "code",
   "execution_count": null,
   "metadata": {},
   "outputs": [],
   "source": [
    "# Show Statistics Information\n",
    "df.describe().transpose()"
   ]
  },
  {
   "cell_type": "markdown",
   "metadata": {},
   "source": [
    "<h2 style=\"font-size:18px;color:#ffce00\">Mean, Median, Mode</h2>"
   ]
  },
  {
   "cell_type": "code",
   "execution_count": null,
   "metadata": {},
   "outputs": [],
   "source": [
    "#Select Only Numeric Variable\n",
    "df_num = df[['MonthlyCharges', 'tenure', 'TotalCharges']]"
   ]
  },
  {
   "cell_type": "code",
   "execution_count": null,
   "metadata": {},
   "outputs": [],
   "source": [
    "#mean value\n",
    "mean= df_num.mean()\n",
    "mean"
   ]
  },
  {
   "cell_type": "code",
   "execution_count": null,
   "metadata": {},
   "outputs": [],
   "source": [
    "#median value\n",
    "median= df_num.median()\n",
    "median"
   ]
  },
  {
   "cell_type": "code",
   "execution_count": null,
   "metadata": {},
   "outputs": [],
   "source": [
    "#median value\n",
    "mode= df_num.mode()\n",
    "mode"
   ]
  },
  {
   "cell_type": "markdown",
   "metadata": {},
   "source": [
    "<h2 style=\"font-size:18px;color:#ffce00\">Correlation</h2>"
   ]
  },
  {
   "cell_type": "code",
   "execution_count": null,
   "metadata": {},
   "outputs": [],
   "source": [
    "#Mengihutng Pearson's Correlation Coefficient\n",
    "correlation_matrix = df.corr(method='pearson')\n",
    "\n",
    "#Melihat Corelation Matrox\n",
    "correlation_matrix"
   ]
  },
  {
   "cell_type": "markdown",
   "metadata": {},
   "source": [
    "<h2 style=\"font-size:18px;color:#ffce00\">Scatter Plot</h2>"
   ]
  },
  {
   "cell_type": "code",
   "execution_count": null,
   "metadata": {},
   "outputs": [],
   "source": [
    "#Import Library\n",
    "import seaborn as sns\n",
    "import matplotlib.pyplot as plt\n",
    "%matplotlib inline\n",
    "\n",
    "plt.rcParams['figure.figsize'] = (16, 9)\n",
    "plt.style.use('ggplot')\n",
    "\n",
    "# Scatter Plot\n",
    "sns.scatterplot(x=\"tenure\", y=\"TotalCharges\", data= df)"
   ]
  },
  {
   "cell_type": "code",
   "execution_count": null,
   "metadata": {},
   "outputs": [],
   "source": [
    "#Bar plot\n",
    "sns.barplot(x='Churn',y='tenure',data=df)"
   ]
  },
  {
   "cell_type": "code",
   "execution_count": null,
   "metadata": {},
   "outputs": [],
   "source": [
    "#Visualising the data\n",
    "plot_income = sns.distplot(df['MonthlyCharges'])"
   ]
  },
  {
   "cell_type": "code",
   "execution_count": null,
   "metadata": {},
   "outputs": [],
   "source": [
    "#pairwise relationships\n",
    "sns.pairplot(df)"
   ]
  },
  {
   "cell_type": "code",
   "execution_count": null,
   "metadata": {},
   "outputs": [],
   "source": [
    "# Contingency Table\n",
    "data_crosstab = pd.crosstab(df['PaymentMethod'], \n",
    "                            df['Churn'],  \n",
    "                               margins = False) \n",
    "print(data_crosstab) "
   ]
  },
  {
   "cell_type": "markdown",
   "metadata": {},
   "source": [
    "<h3 style=\"font-size:25px;color:#4480C4\">Data Preparation</h3>"
   ]
  },
  {
   "cell_type": "markdown",
   "metadata": {},
   "source": [
    "<h2 style=\"font-size:18px;color:#ffce00\">Handling Missing Values</h2>"
   ]
  },
  {
   "cell_type": "code",
   "execution_count": null,
   "metadata": {},
   "outputs": [],
   "source": [
    "# Melihat jumlah data kosong dalam data\n",
    "df.isnull().sum()"
   ]
  },
  {
   "cell_type": "code",
   "execution_count": null,
   "metadata": {},
   "outputs": [],
   "source": [
    "tc_median = df[\"TotalCharges\"].median()\n",
    "df[\"TotalCharges\"].fillna(tc_median, inplace=True)\n",
    "df.info()"
   ]
  },
  {
   "cell_type": "markdown",
   "metadata": {},
   "source": [
    "<h2 style=\"font-size:18px;color:#ffce00\">Data Transformation</h2>"
   ]
  },
  {
   "cell_type": "code",
   "execution_count": null,
   "metadata": {},
   "outputs": [],
   "source": [
    "#Change The data in \"Gender\" from 'Male' to '0', and 'Female' to '1'\n",
    "df.gender[df.gender == 'Male'] = 0\n",
    "df.gender[df.gender == 'Female'] = 1"
   ]
  },
  {
   "cell_type": "code",
   "execution_count": null,
   "metadata": {},
   "outputs": [],
   "source": [
    "# creating a dict file  \n",
    "gender = {'Male': 0,'female': 1}\n",
    "data.Gender = [gender[item] for item in data.Gender]"
   ]
  },
  {
   "cell_type": "code",
   "execution_count": null,
   "metadata": {},
   "outputs": [],
   "source": [
    "df_cat = ['gender', \n",
    "          'SeniorCitizen', \n",
    "          'Partner', \n",
    "          'Dependents', \n",
    "          'PhoneService', \n",
    "          'MultipleLines', \n",
    "          'InternetService', \n",
    "          'OnlineSecurity', \n",
    "          'OnlineBackup', \n",
    "          'DeviceProtection', \n",
    "          'TechSupport', \n",
    "          'StreamingTV', \n",
    "          'StreamingMovies', \n",
    "          'Contract', \n",
    "          'PaperlessBilling', \n",
    "          'PaymentMethod', \n",
    "          'Churn']\n",
    "df_cat"
   ]
  },
  {
   "cell_type": "code",
   "execution_count": null,
   "metadata": {},
   "outputs": [],
   "source": [
    "df[df_cat] = df[df_cat].astype('category')\n",
    "df.dtypes"
   ]
  },
  {
   "cell_type": "code",
   "execution_count": null,
   "metadata": {},
   "outputs": [],
   "source": [
    "df['gender'] = df['gender'].cat.codes\n",
    "df['SeniorCitizen'] = df['SeniorCitizen'].cat.codes\n",
    "df['Partner'] = df['Partner'].cat.codes\n",
    "df['Dependents'] = df['Dependents'].cat.codes\n",
    "df['PhoneService'] = df['PhoneService'].cat.codes\n",
    "df['MultipleLines'] = df['MultipleLines'].cat.codes\n",
    "df['InternetService'] = df['InternetService'].cat.codes\n",
    "df['OnlineSecurity'] = df['OnlineSecurity'].cat.codes\n",
    "df['OnlineBackup'] = df['OnlineBackup'].cat.codes\n",
    "df['DeviceProtection'] = df['DeviceProtection'].cat.codes\n",
    "df['TechSupport'] = df['TechSupport'].cat.codes\n",
    "df['StreamingTV'] = df['StreamingTV'].cat.codes\n",
    "df['StreamingMovies'] = df['StreamingMovies'].cat.codes\n",
    "df['Contract'] = df['Contract'].cat.codes\n",
    "df['PaperlessBilling'] = df['PaperlessBilling'].cat.codes\n",
    "df['PaymentMethod'] = df['PaymentMethod'].cat.codes\n",
    "df['Churn'] = df['Churn'].cat.codes"
   ]
  },
  {
   "cell_type": "code",
   "execution_count": null,
   "metadata": {},
   "outputs": [],
   "source": [
    "df.head()"
   ]
  },
  {
   "cell_type": "code",
   "execution_count": null,
   "metadata": {},
   "outputs": [],
   "source": [
    "df = df_csv.drop(\"customerID\", axis=1)\n",
    "df.head()"
   ]
  },
  {
   "cell_type": "markdown",
   "metadata": {},
   "source": [
    "<h2 style=\"font-size:18px;color:#ffce00\">Normalization</h2>"
   ]
  },
  {
   "cell_type": "code",
   "execution_count": null,
   "metadata": {},
   "outputs": [],
   "source": [
    "#Import MinMax Scaler\n",
    "from sklearn.preprocessing import MinMaxScaler\n",
    "\n",
    "# initialize min-max scaler\n",
    "mm_scaler = MinMaxScaler()\n",
    "\n",
    "df_norm = df.copy()\n",
    "column_names = df.columns.tolist()\n",
    "\n",
    "# transform all attributes\n",
    "df_norm[column_names] = mm_scaler.fit_transform(df_norm[column_names])\n",
    "\n",
    "df_norm.sort_index(inplace=True)\n",
    "df_norm.head()"
   ]
  },
  {
   "cell_type": "markdown",
   "metadata": {},
   "source": [
    "<h2 style=\"font-size:18px;color:#ffce00\">Standarization</h2>"
   ]
  },
  {
   "cell_type": "code",
   "execution_count": null,
   "metadata": {},
   "outputs": [],
   "source": [
    "#Import Standard Scaler\n",
    "from sklearn.preprocessing import StandardScaler\n",
    "\n",
    "standard_scaler = StandardScaler()\n",
    "\n",
    "df_stand = df.copy()\n",
    "\n",
    "# transform all attributes\n",
    "df_stand[column_names] = standard_scaler.fit_transform(df_stand[column_names])\n",
    "df_stand.sort_index(inplace=True)\n",
    "df_stand.head()"
   ]
  },
  {
   "cell_type": "markdown",
   "metadata": {},
   "source": [
    "<h2 style=\"font-size:18px;color:#ffce00\">Export Data</h2>"
   ]
  },
  {
   "cell_type": "code",
   "execution_count": null,
   "metadata": {},
   "outputs": [],
   "source": [
    "# Export Data to CSV\n",
    "df.to_csv(r'dataset/churn_new.csv')"
   ]
  },
  {
   "cell_type": "markdown",
   "metadata": {},
   "source": [
    "<h3 style=\"font-size:25px;color:#4480C4\">Dimensionality Reduction</h3>"
   ]
  },
  {
   "cell_type": "markdown",
   "metadata": {},
   "source": [
    "<h2 style=\"font-size:18px;color:#ffce00\">Principal Component Analysis</h2>"
   ]
  },
  {
   "cell_type": "code",
   "execution_count": null,
   "metadata": {},
   "outputs": [],
   "source": [
    "# Here we are using inbuilt dataset of scikit learn \n",
    "from sklearn.datasets import load_breast_cancer \n",
    "  \n",
    "# instantiating \n",
    "cancer = load_breast_cancer() \n",
    "  \n",
    "# creating dataframe \n",
    "df = pd.DataFrame(cancer['data'], columns = cancer['feature_names']) \n",
    "  \n",
    "# checking head of dataframe \n",
    "df.head() "
   ]
  },
  {
   "cell_type": "code",
   "execution_count": null,
   "metadata": {},
   "outputs": [],
   "source": [
    "# Importing standardscalar module \n",
    "from sklearn.preprocessing import StandardScaler \n",
    "\n",
    "scalar = StandardScaler() \n",
    "\n",
    "# fitting \n",
    "scalar.fit(df) \n",
    "scaled_data = scalar.transform(df) \n",
    "\n",
    "# Importing PCA \n",
    "from sklearn.decomposition import PCA \n",
    "\n",
    "# Let's say, components = 2 \n",
    "pca = PCA(n_components = 2) \n",
    "pca.fit(scaled_data) \n",
    "x_pca = pca.transform(scaled_data) \n",
    "\n",
    "x_pca.shape \n"
   ]
  },
  {
   "cell_type": "code",
   "execution_count": null,
   "metadata": {},
   "outputs": [],
   "source": [
    "# giving a larger plot \n",
    "\n",
    "\n",
    "plt.scatter(x_pca[:, 0], x_pca[:, 1], c = cancer['target'], cmap ='plasma') \n",
    "\n",
    "# labeling x and y axes \n",
    "plt.xlabel('First Principal Component') \n",
    "plt.ylabel('Second Principal Component') \n"
   ]
  },
  {
   "cell_type": "code",
   "execution_count": null,
   "metadata": {},
   "outputs": [],
   "source": [
    "# plotting heatmap\n",
    "df_comp = pd.DataFrame(pca.components_, columns = cancer['feature_names']) \n",
    "sns.heatmap(df_comp) "
   ]
  }
 ],
 "metadata": {
  "kernelspec": {
   "display_name": "Python 3",
   "language": "python",
   "name": "python3"
  },
  "language_info": {
   "codemirror_mode": {
    "name": "ipython",
    "version": 3
   },
   "file_extension": ".py",
   "mimetype": "text/x-python",
   "name": "python",
   "nbconvert_exporter": "python",
   "pygments_lexer": "ipython3",
   "version": "3.7.3"
  }
 },
 "nbformat": 4,
 "nbformat_minor": 2
}
